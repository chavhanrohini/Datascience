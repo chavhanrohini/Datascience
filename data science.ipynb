{
 "cells": [
  {
   "cell_type": "markdown",
   "id": "804b995a",
   "metadata": {},
   "source": [
    "## Question 1: -\n",
    "\n",
    "Write a program that takes a string as input, and counts the frequency of each word in the string, there might\n",
    "be repeated characters in the string. Your task is to find the highest frequency and returns the length of the\n",
    "highest-frequency word."
   ]
  },
  {
   "cell_type": "markdown",
   "id": "88003a57",
   "metadata": {},
   "source": [
    "Here's a Python program that takes a string as input, counts the frequency of each word in the string, and returns the length of the highest-frequency word:"
   ]
  },
  {
   "cell_type": "code",
   "execution_count": 1,
   "id": "c2fb6610",
   "metadata": {},
   "outputs": [
    {
     "name": "stdout",
     "output_type": "stream",
     "text": [
      "Example output: 5\n"
     ]
    }
   ],
   "source": [
    "def find_highest_frequency_word_length(input_string):\n",
    "    # Split the input string into words\n",
    "    words = input_string.split()\n",
    "\n",
    "    # Create a dictionary to store word frequencies\n",
    "    word_count = {}\n",
    "\n",
    "    # Count the frequency of each word\n",
    "    for word in words:\n",
    "        # Removing any non-alphanumeric characters\n",
    "        word = ''.join(filter(str.isalnum, word))\n",
    "        if word in word_count:\n",
    "            word_count[word] += 1\n",
    "        else:\n",
    "            word_count[word] = 1\n",
    "\n",
    "    # Find the word(s) with the highest frequency\n",
    "    max_frequency = max(word_count.values())\n",
    "    highest_frequency_words = [word for word, frequency in word_count.items() if frequency == max_frequency]\n",
    "\n",
    "    # Find the length of the highest-frequency word\n",
    "    highest_frequency_word_length = max(len(word) for word in highest_frequency_words)\n",
    "\n",
    "    return highest_frequency_word_length\n",
    "\n",
    "# Example input\n",
    "input_string = \"write write write all the number from from from 1 to 100\"\n",
    "output = find_highest_frequency_word_length(input_string)\n",
    "print(\"Example output:\", output)\n"
   ]
  },
  {
   "cell_type": "markdown",
   "id": "2eb5aa78",
   "metadata": {},
   "source": [
    "This program first splits the input string into words, counts the frequency of each word, finds the word(s) with the highest frequency, and finally returns the length of the highest-frequency word(s).\n",
    "\n",
    "Now, let's create a few additional test cases and explain them:\n"
   ]
  },
  {
   "cell_type": "code",
   "execution_count": 2,
   "id": "fd866319",
   "metadata": {},
   "outputs": [],
   "source": [
    "#Test Case 1:\n",
    "input_string = \"apple apple banana cherry cherry cherry\"\n",
    "# The most frequent word is \"cherry,\" and its length is 6.\n",
    "# Expected output: 6\n"
   ]
  },
  {
   "cell_type": "code",
   "execution_count": 3,
   "id": "1a8a9d38",
   "metadata": {},
   "outputs": [],
   "source": [
    "#Test Case 2:\n",
    "input_string = \"programming is fun and programming is useful\"\n",
    "# The most frequent words are \"programming\" and \"is,\" both with a frequency of 2.\n",
    "# The longest word among them is \"programming\" with a length of 11.\n",
    "# Expected output: 11\n"
   ]
  },
  {
   "cell_type": "markdown",
   "id": "1d818f79",
   "metadata": {},
   "source": [
    "In these additional test cases, the program correctly identifies the highest-frequency words and returns the length of the longest word among them."
   ]
  },
  {
   "cell_type": "markdown",
   "id": "fce49383",
   "metadata": {},
   "source": [
    "## Question 2: -\n",
    "\n",
    "Consider a string to be valid if all characters of the string appear the same number of times. It is also valid if\n",
    "he can remove just one character at the index in the string, and the remaining characters will occur the same\n",
    "number of times. Given a string, determine if it is valid. If so, return YES , otherwise return NO ."
   ]
  },
  {
   "cell_type": "markdown",
   "id": "9d29482e",
   "metadata": {},
   "source": [
    "Here's a Python program that determines if a given string is valid according to the rules specified:"
   ]
  },
  {
   "cell_type": "code",
   "execution_count": 4,
   "id": "9ef5c0af",
   "metadata": {},
   "outputs": [
    {
     "name": "stdout",
     "output_type": "stream",
     "text": [
      "Example output 1: YES\n",
      "Example output 2: YES\n"
     ]
    }
   ],
   "source": [
    "from collections import Counter\n",
    "\n",
    "def is_valid_string(s):\n",
    "    # Count the frequency of each character in the string\n",
    "    char_count = Counter(s)\n",
    "\n",
    "    # Count the frequency of each frequency\n",
    "    frequency_count = Counter(char_count.values())\n",
    "\n",
    "    # If there is only one distinct frequency or if there are exactly two distinct frequencies\n",
    "    # and one of them has a count of 1, the string is valid\n",
    "    if len(frequency_count) == 1 or (len(frequency_count) == 2 and (1 in frequency_count.values())):\n",
    "        return \"YES\"\n",
    "    else:\n",
    "        return \"NO\"\n",
    "\n",
    "# Example input 1\n",
    "s1 = \"abc\"\n",
    "output1 = is_valid_string(s1)\n",
    "print(\"Example output 1:\", output1)\n",
    "\n",
    "# Example input 2\n",
    "s2 = \"abcc\"\n",
    "output2 = is_valid_string(s2)\n",
    "print(\"Example output 2:\", output2)\n"
   ]
  },
  {
   "cell_type": "code",
   "execution_count": 6,
   "id": "a3efee15",
   "metadata": {},
   "outputs": [],
   "source": [
    "#Test Case 1:\n",
    "s3 = \"aaabbcc\"\n",
    "# The frequency count is {2: 2, 3: 1}. There are two distinct frequencies,\n",
    "# and one of them (2) has a count of 1. So, it's valid after removing one character.\n",
    "# Expected output: YES\n"
   ]
  },
  {
   "cell_type": "code",
   "execution_count": 7,
   "id": "29130512",
   "metadata": {},
   "outputs": [],
   "source": [
    "##Test Case 2:\n",
    "s4 = \"aaaabbbbcccc\"\n",
    "# The frequency count is {4: 1, 4: 1, 4: 1}. There are three distinct frequencies,\n",
    "# and none of them has a count of 1. So, it's not valid.\n",
    "# Expected output: NO\n",
    "\n"
   ]
  },
  {
   "cell_type": "code",
   "execution_count": null,
   "id": "d95e9fb5",
   "metadata": {},
   "outputs": [],
   "source": []
  }
 ],
 "metadata": {
  "kernelspec": {
   "display_name": "Python 3 (ipykernel)",
   "language": "python",
   "name": "python3"
  },
  "language_info": {
   "codemirror_mode": {
    "name": "ipython",
    "version": 3
   },
   "file_extension": ".py",
   "mimetype": "text/x-python",
   "name": "python",
   "nbconvert_exporter": "python",
   "pygments_lexer": "ipython3",
   "version": "3.9.12"
  }
 },
 "nbformat": 4,
 "nbformat_minor": 5
}
